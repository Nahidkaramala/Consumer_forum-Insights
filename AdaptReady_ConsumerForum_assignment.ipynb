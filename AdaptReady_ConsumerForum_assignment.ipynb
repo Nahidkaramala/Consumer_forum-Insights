1. Data set reference link: https://www.consumerfinance.gov/data-research/consumer-complaints/#download-the-data
File data source: https://files.consumerfinance.gov/ccdb/complaints.csv.zip 
Problem statement:
Download the data from the file data source and provide possible data insights.


# READ THE CONSUMER DATA USING PANDAS
import warnings
import pandas as pd
df=pd.read_csv("complaints.csv")
df.head(10)
# DATA PROCESSING & insights
df.columns
df.info()
df['Date received'] = pd.to_datetime(df['Date received'], format='%d-%m-%Y')

# Extract year, month, and day into separate columns
df['Year'] = df['Date received'].dt.year
df['Month'] = df['Date received'].dt.month
df['Day'] = df['Date received'].dt.day
df.head(5)
df.dtypes
df['Year'].value_counts()
"""We have data from 2011 to 2023.
We can see more Number of complaints raised in the year 2023.
least being in the year 2011
2023    1292148
2022     800359
2024     736842
2021     496003
2020     444294
2019     277298
2018     257220
2017     242854
2016     191414
2015     168437
2014     153008
2013     108215
2012      72372
2011       2536"""
# Make subsets based on year
# Group the DataFrame by 'Year'
year_groups = df.groupby('Year')

# Create a empty dictionary to store subsets based on year
year_subsets = {}

# Iterate each group and store the subsets in the dictionary
for year, group in year_groups:
    year_subsets[year] = group

year_subsets[2023].head(5)

info_output = "\n".join([f"Year {year} Subset Info:\n{year_subsets[year].info()}\n" for year in [2011,2012, 2013, 2014,2015, 2016, 2017, 2018, 2019, 2020, 2021, 2022, 2023]])
print(info_output)

 Individual entries per year
# Create an empty dictionary to store subsets based on year
year_subsets = {}

# Create an empty dictionary to store row counts for each year
year_row_counts_dict = {}

# Iterate over each group and store the subsets and row counts in the dictionaries
for year, group in year_groups:
    year_subsets[year] = group
    year_row_counts_dict[year] = len(group)

# Print the dictionary containing row counts for each year
print(year_row_counts_dict)

import matplotlib.pyplot as plt

# Create lists to store years and row counts
years = list(year_row_counts_dict.keys())
row_counts = list(year_row_counts_dict.values())

# Bar plot
plt.bar(years, row_counts)

# labels and title
plt.xlabel('Year')
plt.ylabel('Number of Rows')
plt.title('Number of Rows by Year')
plt.xticks(rotation=90)
plt.show()

# Timely response?
# Create an empty dictionary to store the counts of timely responses for each year
timely_response_counts_by_year = {}

# Iterate over each year
for year, group in year_groups:
    # Filter the DataFrame for the current year
    subset_year = group
    
    # Count the number of occurrences of "Yes" and "No" in the "Timely response?" column for the current year
    timely_response_counts = subset_year['Timely response?'].value_counts()
    
    # Store the counts in the dictionary
    timely_response_counts_by_year[year] = {
        'Yes': timely_response_counts.get('Yes', 0),
        'No': timely_response_counts.get('No', 0)
    }

# Print the counts for each year
for year, counts in timely_response_counts_by_year.items():
    print(f"Year {year}:")
    print("Number of timely responses (Yes):", counts['Yes'])
    print("Number of non-timely responses (No):", counts['No'])
    print()

Year 2011:
Number of timely responses (Yes): 2285
Number of non-timely responses (No): 251

Year 2012:
Number of timely responses (Yes): 69865
Number of non-timely responses (No): 2507

Year 2013:
Number of timely responses (Yes): 106948
Number of non-timely responses (No): 1267

Year 2014:
Number of timely responses (Yes): 149410
Number of non-timely responses (No): 3598

Year 2015:
Number of timely responses (Yes): 163651
Number of non-timely responses (No): 4786

Year 2016:
Number of timely responses (Yes): 184796
Number of non-timely responses (No): 6618

Year 2017:
Number of timely responses (Yes): 235950
Number of non-timely responses (No): 6904

Year 2018:
Number of timely responses (Yes): 252729
Number of non-timely responses (No): 4491

Year 2019:
Number of timely responses (Yes): 273089
Number of non-timely responses (No): 4209

Year 2020:
Number of timely responses (Yes): 439658
Number of non-timely responses (No): 4636

Year 2021:
Number of timely responses (Yes): 489781
Number of non-timely responses (No): 6222

Year 2022:
Number of timely responses (Yes): 795131
Number of non-timely responses (No): 5228

Year 2023:
Number of timely responses (Yes): 1286519
Number of non-timely responses (No): 5629

Year 2024:
Number of timely responses (Yes): 734511
Number of non-timely responses (No): 2331
import seaborn as sns
import pandas as pd

# Convert the dictionary into a DataFrame
timely_response_df = pd.DataFrame.from_dict(timely_response_counts_by_year, orient='index')

# Reset the index to convert the years from index to a regular column
timely_response_df.reset_index(inplace=True)

# Rename the columns for better clarity
timely_response_df.rename(columns={'index': 'Year', 'Yes': 'Number of Yes Responses', 'No': 'Number of No Responses'}, inplace=True)

# Melt the DataFrame to make it suitable for pairplot
timely_response_melted = pd.melt(timely_response_df, id_vars=['Year'], value_vars=['Number of Yes Responses', 'Number of No Responses'], var_name='Response', value_name='Count')

# Draw the pairplot
sns.pairplot(timely_response_melted, x_vars='Year', y_vars='Count', hue='Response', kind='scatter')

# Show the plot
plt.show()

Issues=df['Issue'].unique()	
Issues
len(Issues)
unique_value_counts = df['Issue'].value_counts()
print(unique_value_counts)
unique_value_counts = df['Issue'].value_counts()

# Set options to display the entire Series
pd.set_option('display.max_rows', None)
pd.set_option('display.max_columns', None)

# Print the entire Series
print(unique_value_counts)


import seaborn as sns
import matplotlib.pyplot as plt

unique_value_counts = df['Issue'].value_counts()

# Converting the counts to a DataFrame for plotting
unique_value_counts_df = unique_value_counts.reset_index()
unique_value_counts_df.columns = ['Issue', 'Count']

# BArPlot
plt.figure(figsize=(15, 10))
sns.barplot(x='Issue', y='Count', data=unique_value_counts_df, palette='viridis')
plt.title('Count of Unique Issues')
plt.xlabel('Issue')
plt.ylabel('Count')
plt.xticks(rotation=90)  

unique_value_counts = df['Issue'].value_counts().reset_index()
unique_value_counts.columns = ['Issue', 'Count']

# Single line code to draw a box plot
sns.boxplot(x='Issue', y='Count', data=unique_value_counts)

# Show the plot
plt.show()

2. Given an unsorted array of integers, find the length of the longest continuous increasing subsequence (subarray). 
def find_length_of_lcis(arr):
    if not arr:
        return 0

    max_length = 1
    current_length = 1

    for i in range(1, len(arr)):
        if arr[i] > arr[i - 1]:
            current_length += 1
            max_length = max(max_length, current_length)
        else:
            current_length = 1

    return max_length

# Input:
arr = list(map(int, input().replace(',', ' ').split()))
print(find_length_of_lcis(arr))

# Example 1:
# Input: [1,3,5,4,7]
# Output: 3 

print(find_length_of_lcis([1,3,5,4,7]))
# Example 2:
# Input: [2,2,2,2,2]
# Output: 1
print(find_length_of_lcis([2,2,2,2,2]))
3. Given a list of non negative integers, arrange them such that they form the largest number.
from functools import cmp_to_key

def compare(a, b):
    if a + b > b + a:
        return -1
    elif a + b < b + a:
        return 1
    else:
        return 0

def largest_number(nums):
    # Convert integers to strings for easy comparison
    nums = list(map(str, nums))
    
    # Sort using the custom comparator
    nums.sort(key=cmp_to_key(compare))
    
    # Join the sorted numbers
    result = ''.join(nums)
    
    # Edge case: if the largest number is '0', the result should be '0'
    return result if result[0] != '0' else '0'

# input
nums=list(map(int,input().replace(',', ' ').split()))
print(largest_number(nums)) 


# Example 1:
#  Input: [10,2]
#  Output: &quot;210&quot;
print(largest_number([10,2])) 

# Example 2: 
# Input: [3,30,34,5,9]
# Output: &quot;9534330&quot;
print(largest_number([3,30,34,5,9])) 
4. Store all the "servlet-name", and "servlet-class" to a csv file from the attached sample_json.json file using Python.
import json
import csv

# Load JSON data from file
with open('sample.json', 'r') as file:
    data = json.load(file)

# Extract servlet information
servlets = data['web-app']['servlet']

# Prepare the data for CSV
csv_data = []
for servlet in servlets:
    name = servlet.get('servlet-name')
    class_name = servlet.get('servlet-class')
    if name and class_name:
        csv_data.append({'servlet-name': name, 'servlet-class': class_name})

# Write the data to a CSV file
with open('servlets.csv', 'w', newline='') as csvfile:
    fieldnames = ['servlet-name', 'servlet-class']
    writer = csv.DictWriter(csvfile, fieldnames=fieldnames)

    writer.writeheader()
    for row in csv_data:
        writer.writerow(row)

print("CSV file 'servlets.csv' has been created with servlet-name and servlet-class.")

import pandas as pd
df= pd.read_csv("servlets.csv")
df.head(10)
